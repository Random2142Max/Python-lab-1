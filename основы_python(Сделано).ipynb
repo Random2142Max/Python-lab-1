{
 "cells": [
  {
   "cell_type": "markdown",
   "metadata": {
    "id": "M-DGa20PaHnu"
   },
   "source": [
    "#Задача 1\n",
    "Написать функцию на вход которой подается строка, состоящая из латинских букв.\n",
    "Функция должна вернуть количество гласных букв (a, e, i, o, u) в этой строке. Написать тесты для кода"
   ]
  },
  {
   "cell_type": "code",
   "execution_count": 1,
   "metadata": {
    "id": "XvX8X_JJ6PCb",
    "tags": []
   },
   "outputs": [
    {
     "name": "stdout",
     "output_type": "stream",
     "text": [
      "5\n",
      "2\n",
      "0\n"
     ]
    }
   ],
   "source": [
    "# Your code goes here\n",
    "def getStr(str):\n",
    "    count = 0;\n",
    "    for elem in str:\n",
    "        char = elem.lower()\n",
    "        if (char == \"e\" or char == \"i\" or char == \"o\" or char == \"u\"):\n",
    "            count+=1           \n",
    "    return count\n",
    "\n",
    "print(getStr(\"aEfIouurg\")) #5\n",
    "print(getStr(\"aEforg\")) #2\n",
    "print(getStr(\"apfhhrg\")) #0\n",
    "\n",
    "def test_getStr():\n",
    "    assert(getStr(\"aEfIouurg\")) == 5\n",
    "    assert(getStr(\"aEforg\")) == 2\n",
    "    assert(getStr(\"apfhhrg\")) == 0"
   ]
  },
  {
   "cell_type": "markdown",
   "metadata": {
    "id": "t2ClV_Y0bbr6"
   },
   "source": [
    "# Задача 2\n",
    "Написать функцию на вход, которой подается строка. Функция должна вернуть true, если\n",
    "каждый символ в строке встречается только 1 раз, иначе должна вернуть false. Написать тесты для кода"
   ]
  },
  {
   "cell_type": "code",
   "execution_count": 2,
   "metadata": {
    "id": "FppbECao6VIz",
    "tags": []
   },
   "outputs": [
    {
     "name": "stdout",
     "output_type": "stream",
     "text": [
      "False\n",
      "True\n",
      "False\n"
     ]
    }
   ],
   "source": [
    "# Your code goes here\n",
    "def getStr(str):\n",
    "    count = True\n",
    "    current = \"\"\n",
    "    for elem in str:\n",
    "        if elem not in current:\n",
    "            current += elem\n",
    "        else:\n",
    "            count = False\n",
    "    return count\n",
    "\n",
    "print(getStr(\"aEfIouurg\")) #false\n",
    "print(getStr(\"aEforg\")) #true\n",
    "print(getStr(\"apfhhrg\")) #false\n",
    "\n",
    "def test_getStr():\n",
    "    assert(getStr(\"aEfIouurg\")) == False\n",
    "    assert(getStr(\"aEforg\")) == True\n",
    "    assert(getStr(\"apfhhrg\")) == False"
   ]
  },
  {
   "cell_type": "markdown",
   "metadata": {
    "id": "udRiIK1cdt6E"
   },
   "source": [
    "# Задача 3\n",
    "Написать функцию, которая принимает положительное число и возвращает количество\n",
    "бит равных 1 в этом числе. Написать тесты для кода"
   ]
  },
  {
   "cell_type": "code",
   "execution_count": 3,
   "metadata": {
    "id": "6tkfDJRz6dp_",
    "tags": []
   },
   "outputs": [
    {
     "name": "stdout",
     "output_type": "stream",
     "text": [
      "Ошибка! Вы ввели не положительное число!\n",
      "1111\n",
      "101\n",
      "10000\n"
     ]
    }
   ],
   "source": [
    "def checkUIntStr(curStr):\n",
    "    isHaveMinusSign = False\n",
    "    isHaveNumber = False\n",
    "    str = \"{}\".format(curStr)\n",
    "    newStrNum = \"\"\n",
    "    \n",
    "    for elem in str:\n",
    "        # Проверка на наличие отрицательного числа\n",
    "        if (elem == '-'):\n",
    "            newStrNum += elem\n",
    "            isHaveMinusSign = True\n",
    "        \n",
    "        # Проверка на любой другой символ, кроме числа\n",
    "        if (elem.isdigit()):\n",
    "            isHaveNumber = True\n",
    "            newStrNum += elem\n",
    "    \n",
    "    # Конвертация числа из str в int, по флагам\n",
    "    if((isHaveNumber == True) & (isHaveMinusSign == False)):\n",
    "        result = int(newStrNum)\n",
    "    else:\n",
    "        result = False\n",
    "    \n",
    "    return result\n",
    "\n",
    "def getUInt(x):\n",
    "    result = checkUIntStr(x)\n",
    "    \n",
    "    if (result == False):\n",
    "        result = \"Ошибка! Вы ввели не положительное число!\"\n",
    "    else:\n",
    "        x = int(result)\n",
    "        \n",
    "        if (x > 1):\n",
    "            result = \"{0:b}\".format(x)\n",
    "    return result\n",
    "\n",
    "print(getUInt(-1)) # Error\n",
    "print(getUInt(\"nsaoid15\")) # 1111\n",
    "print(getUInt(5)) # 101\n",
    "print(getUInt(16)) # 10000\n",
    "\n",
    "def test_getUInt():\n",
    "    assert(getUInt(-1)) == \"Ошибка! Вы ввели не положительное число!\"\n",
    "    assert(getUInt(\"nsaoid15\")) == 1111\n",
    "    assert(getUInt(5)) == 101\n",
    "    assert(getUInt(16)) == 10000"
   ]
  },
  {
   "cell_type": "markdown",
   "metadata": {
    "id": "26dDUz-Ae17N"
   },
   "source": [
    "# Задача 4\n",
    "Написать функцию, которая принимает положительное число. Функция должна вернуть то,\n",
    "сколько раз необходимо перемножать цифры числа или результат перемножения, чтобы\n",
    "получилось число состоящее из одной цифры.\n",
    "Например, для входного числа:\n",
    "· 39 функция должна вернуть 3, так как 3*9=27 => 2*7=14 => 1*4=4\n",
    "· 4 функция должна вернуть 0, так как число уже состоит из одной цифры\n",
    "· 999 функция должна вернуть 4, так как 9*9*9=729 => 7*2*9=126 => 1*2*6=12 =>\n",
    "1*2=2. Написать тесты для кода"
   ]
  },
  {
   "cell_type": "code",
   "execution_count": 4,
   "metadata": {
    "id": "BH1A_Mgi6i4G",
    "tags": []
   },
   "outputs": [
    {
     "name": "stdout",
     "output_type": "stream",
     "text": [
      "Ошибка! Вы ввели не положительное число!\n",
      "2\n",
      "0\n",
      "2\n",
      "4\n"
     ]
    }
   ],
   "source": [
    "def checkUIntStr(curStr):\n",
    "    isHaveMinusSign = False\n",
    "    isHaveNumber = False\n",
    "    str = \"{}\".format(curStr)\n",
    "    newStrNum = \"\"\n",
    "    \n",
    "    for elem in str:\n",
    "        # Проверка на наличие отрицательного числа\n",
    "        if (elem == '-'):\n",
    "            newStrNum += elem\n",
    "            isHaveMinusSign = True\n",
    "        # Проверка на любой другой символ, кроме числа\n",
    "        if (elem.isdigit()):\n",
    "            isHaveNumber = True\n",
    "            newStrNum += elem\n",
    "    \n",
    "    # Конвертация числа из str в int, по флагам\n",
    "    if((isHaveNumber == True) & (isHaveMinusSign == False)):\n",
    "        result = int(newStrNum)\n",
    "    else:\n",
    "        result = False\n",
    "    \n",
    "    return result\n",
    "\n",
    "def magic(x):\n",
    "    result = checkUIntStr(x)\n",
    "    if (result == False):\n",
    "        result = \"Ошибка! Вы ввели не положительное число!\"\n",
    "    else:\n",
    "        x = int(result)\n",
    "        count = 0\n",
    "        \n",
    "        if ((x > 1) & (x < 10)):\n",
    "            result = count\n",
    "            # count - refResult or (if count == 0) result = count\n",
    "            \n",
    "        if (x > 9):\n",
    "            while (x > 9):\n",
    "                # Operations\n",
    "                leftNum = x // 10\n",
    "                rightNum = x % 10\n",
    "                x = leftNum * rightNum\n",
    "                \n",
    "                # count++\n",
    "                count += 1\n",
    "            result = count\n",
    "    return result\n",
    "    pass\n",
    "\n",
    "# Тесты\n",
    "print(magic(-1)) # Error\n",
    "print(magic(\"laksj1fd11\")) # 2\n",
    "print(magic(5)) # 0\n",
    "print(magic(65)) # 2\n",
    "print(magic(77)) # 4\n",
    "\n",
    "def test_magic():\n",
    "    assert(magic(-1)) == \"Ошибка! Вы ввели не положительное число!\"\n",
    "    assert(magic(\"laksj1fd11\")) == 2\n",
    "    assert(magic(5)) == 0\n",
    "    assert(magic(65)) == 2\n",
    "    assert(magic(77)) == 4"
   ]
  },
  {
   "cell_type": "markdown",
   "metadata": {
    "id": "0nS-kIa8g8vd"
   },
   "source": [
    "# Задача 5\n",
    "Написать функцию, которая принимает два целочисленных вектора одинаковой длины и\n",
    "возвращает среднеквадратическое отклонение двух векторов. Написать тесты для кода"
   ]
  },
  {
   "cell_type": "code",
   "execution_count": 5,
   "metadata": {
    "id": "8iphx4LM6xbx",
    "tags": []
   },
   "outputs": [
    {
     "name": "stdout",
     "output_type": "stream",
     "text": [
      "3.0\n"
     ]
    }
   ],
   "source": [
    "import numpy as np\n",
    "import math\n",
    "\n",
    "# Входные данные, это целочисленные переменные\n",
    "def mse(vec1, vec2):\n",
    "    \n",
    "    if (len(vec1) != len (vec2)):\n",
    "        raise(ValueError(\"Ошибка, вектора должны быть одинаковыми!\"))\n",
    "    \n",
    "    lengthVec = len(vec1)\n",
    "    \n",
    "    # Вычисляем квадратичную разницу векторов и суммируем каждый элемент вектора\n",
    "    sumSquaredDifference = sum((vec1[i] - vec2[i]) ** 2 for i in range(lengthVec))\n",
    "    \n",
    "    # Находим среднеквадратичное отклонение из суммы и длины\n",
    "    vec = math.sqrt(sumSquaredDifference / lengthVec)\n",
    "    \n",
    "    # Старые наработки\n",
    "    #-------\n",
    "    #sumSquaredDifference = 0\n",
    "    \n",
    "    #for i in range(lengthVec):\n",
    "        # Вычисляем квадратичную разницу векторов и суммируем каждый элемент вектора\n",
    "        #squaredDifference = int(((vec1[i] - vec2[i]) ** 2.0))\n",
    "    \n",
    "    #sumVec = float(sum(squaredDifference)) # Тут ошибка... Но я ничего не понимаю\n",
    "    # Находим среднеквадратичное отклонение из суммы и длины\n",
    "    #vec = math.sqrt(sumVec / lengthVec)\n",
    "    #-------\n",
    "    \n",
    "    return vec\n",
    "    pass\n",
    "\n",
    "# Тесты\n",
    "vector1 = [12,12,12]\n",
    "vector2 = [9,9,9]\n",
    "print(mse(vector1,vector2))\n",
    "\n",
    "def test_mse():\n",
    "    assert(mse(vector1,vector2)) == 3.0\n",
    "# Честно, я пытался сделать по другому,\n",
    "# но каждый раз у меня выходила ошибка с sum(sumVec/lenVec) - 'int' object is not iterable..."
   ]
  },
  {
   "cell_type": "markdown",
   "metadata": {
    "id": "vpIPKL439zkw"
   },
   "source": [
    "# Задача 6\n",
    "Написать функцию, принимающая целое положительное число. Функция должна вернуть\n",
    "строку вида “(n1**p1)(n2**p2)…(nk**pk)” представляющая разложение числа на простые\n",
    "множители (если pi == 1, то выводить только ni).\n",
    "Например, для числа 86240 функция должна вернуть “(2**5)(5)(7**2)(11)”. Написать тесты для кода"
   ]
  },
  {
   "cell_type": "code",
   "execution_count": 6,
   "metadata": {
    "id": "pFebmcZk94Jw",
    "tags": []
   },
   "outputs": [
    {
     "name": "stdout",
     "output_type": "stream",
     "text": [
      "Ошибка! Вы ввели не положительное число!\n",
      "(2 ** 5)(5)(7 ** 2)(11)\n"
     ]
    }
   ],
   "source": [
    "def checkUIntStr(curStr):\n",
    "    isHaveMinusSign = False\n",
    "    isHaveNumber = False\n",
    "    str = \"{}\".format(curStr)\n",
    "    newStrNum = \"\"\n",
    "    \n",
    "    for elem in str:\n",
    "        # Проверка на наличие отрицательного числа\n",
    "        if (elem == '-'):\n",
    "            newStrNum += elem\n",
    "            isHaveMinusSign = True\n",
    "        # Проверка на любой другой символ, кроме числа\n",
    "        if (elem.isdigit()):\n",
    "            isHaveNumber = True\n",
    "            newStrNum += elem\n",
    "    \n",
    "    # Конвертация числа из str в int, по флагам\n",
    "    if((isHaveNumber == True) & (isHaveMinusSign == False)):\n",
    "        result = int(newStrNum)\n",
    "    else:\n",
    "        result = False\n",
    "    \n",
    "    return result\n",
    "\n",
    "def checkPrimeNumber(x):\n",
    "    # Тут метод, для главной задачи\n",
    "    # Так как я хочу уменьшить нагрузку на обработку каждого числа и буду использовать fiftyPrimeNumber(),\n",
    "    # то проверку на каждое число, я уберу, чтобы не перенагружать.\n",
    "    # Условие, я оставлю, для минимального редактирование кода, в других случаях\n",
    "    #result = checkUIntStr(x)\n",
    "    result = x\n",
    "    \n",
    "    if (result == False):\n",
    "        result = \"Ошибка! Вы ввели не положительное число!\"\n",
    "    else:\n",
    "        a = result\n",
    "        k = 0\n",
    "        # Проверка числа, на делители\n",
    "        for i in range(2, a // 2+1):\n",
    "            if (a % i == 0):\n",
    "                k += 1\n",
    "        # Приравниваем простое число и выводим\n",
    "        if (k <= 0):\n",
    "            result = a\n",
    "        else:\n",
    "            result = False\n",
    "    \n",
    "    return result\n",
    "\n",
    "def fiftyPrimeNumbers():\n",
    "    arr = list()\n",
    "    x = 0\n",
    "    num = 2\n",
    "    \n",
    "    while(x < 50):\n",
    "        \n",
    "        checkNum = checkPrimeNumber(num)\n",
    "        \n",
    "        if (checkNum != False):\n",
    "            x += 1\n",
    "            arr.append(checkNum)\n",
    "        \n",
    "        # Перебор всех положительных чисел\n",
    "        num += 1\n",
    "    return arr\n",
    "\n",
    "# Функция для записи в словарь уникальных элементов из List(), чтобы потом пересчитать кол-во похожих элементов\n",
    "def count_duplicates(lst):\n",
    "    counts = {}  # Создаем пустой словарь для подсчета повторений\n",
    "    for item in lst:\n",
    "        if item in counts:\n",
    "            counts[item] += 1  # Увеличиваем значение для существующего элемента\n",
    "        else:\n",
    "            counts[item] = 1  # Добавляем новый элемент в словарь с начальным значением 1\n",
    "\n",
    "    return counts\n",
    "\n",
    "def decompositionNumberPrimeMultipliers(x):\n",
    "    arr = fiftyPrimeNumbers()\n",
    "    result = checkUIntStr(x)\n",
    "    \n",
    "    if (result != False):\n",
    "        newPrimeNumX = list()\n",
    "        curNum = x\n",
    "        \n",
    "        while(curNum != 1):\n",
    "            for i in arr:\n",
    "                if (curNum % i == 0):\n",
    "                    newPrimeNumX.append(i)\n",
    "                    curNum = curNum // i\n",
    "                    break;\n",
    "            \n",
    "        result = newPrimeNumX\n",
    "    return result\n",
    "\n",
    "def sortPrimeMultipliers(x):\n",
    "    arr = decompositionNumberPrimeMultipliers(x)\n",
    "    result = \"\"\n",
    "    \n",
    "    # \"Ошибка! Вы ввели не положительное число!\"\n",
    "    if (arr == False):\n",
    "        result = \"Ошибка! Вы ввели не положительное число!\"\n",
    "    else:\n",
    "        # Вовзращаем словарь уникальных элементов из полученного newPrimeNumX ранее\n",
    "        dictionary = count_duplicates(arr)\n",
    "        \n",
    "        for item, count in dictionary.items():\n",
    "            if (count > 1):\n",
    "                result += f\"({item} ** {count})\"\n",
    "            else:\n",
    "                result += f\"({item})\"\n",
    "    \n",
    "    return result\n",
    "    \n",
    "# Тесты\n",
    "print(sortPrimeMultipliers(-86240)) # Error\n",
    "print(sortPrimeMultipliers(86240)) # (2 ** 5)(5)(7 ** 2)(11)\n",
    "\n",
    "def test_mainFun():\n",
    "    assert(sortPrimeMultipliers(-86240)) == \"Ошибка! Вы ввели не положительное число!\"\n",
    "    assert(sortPrimeMultipliers(86240)) == \"(2 ** 5)(5)(7 ** 2)(11)\""
   ]
  },
  {
   "cell_type": "markdown",
   "metadata": {
    "id": "ps2s0BudX7A2"
   },
   "source": [
    "# Задача 7\n",
    "Написать функцию, принимающая целое число n, задающее количество кубиков. Функция\n",
    "должна определить, можно ли из данного кол-ва кубиков построить пирамиду, то есть\n",
    "можно ли представить число n как 1^2+2^2+3^2+…+k^2. Если можно, то функция должна\n",
    "вернуть k, иначе строку “It is impossible”. Написать тесты для кода"
   ]
  },
  {
   "cell_type": "code",
   "execution_count": 15,
   "metadata": {
    "id": "3YPjEXxhX_YT"
   },
   "outputs": [
    {
     "name": "stdout",
     "output_type": "stream",
     "text": [
      "“It is impossible”\n",
      "“It is impossible”\n",
      "14\n"
     ]
    }
   ],
   "source": [
    "def checkUIntStr(curStr):\n",
    "    isHaveMinusSign = False\n",
    "    isHaveNumber = False\n",
    "    str = \"{}\".format(curStr)\n",
    "    newStrNum = \"\"\n",
    "    \n",
    "    for elem in str:\n",
    "        # Проверка на наличие отрицательного числа\n",
    "        if (elem == '-'):\n",
    "            newStrNum += elem\n",
    "            isHaveMinusSign = True\n",
    "        # Проверка на любой другой символ, кроме числа\n",
    "        if (elem.isdigit()):\n",
    "            isHaveNumber = True\n",
    "            newStrNum += elem\n",
    "    \n",
    "    # Конвертация числа из str в int, по флагам\n",
    "    if((isHaveNumber == True) & (isHaveMinusSign == False)):\n",
    "        result = int(newStrNum)\n",
    "    else:\n",
    "        result = False\n",
    "    \n",
    "    return result\n",
    "\n",
    "def pyramid(number):\n",
    "    x = checkUIntStr(number)\n",
    "    \n",
    "    if (x == False):\n",
    "        result = x\n",
    "    else:\n",
    "        extent = 2\n",
    "        counter = 1\n",
    "        \n",
    "        while(x!=0):\n",
    "            x = x - (counter ** extent)\n",
    "            counter += 1\n",
    "            \n",
    "            if ((x < 0)):\n",
    "                result = False\n",
    "                break\n",
    "\n",
    "        if (x == 0):\n",
    "            result = number\n",
    "\n",
    "    if (result == False):\n",
    "        result = \"“It is impossible”\"\n",
    "    return result\n",
    "    pass\n",
    "    \n",
    "# Тесты\n",
    "print(pyramid(-8)) # Error\n",
    "print(pyramid(8)) # Error\n",
    "print(pyramid(14)) # 14\n",
    "\n",
    "def test_pyramid():\n",
    "    assert(pyramid(-8)) == \"“It is impossible”\"\n",
    "    assert(pyramid(8)) == \"“It is impossible”\"\n",
    "    assert(pyramid(14)) == 14"
   ]
  },
  {
   "cell_type": "markdown",
   "metadata": {
    "id": "KeKgmIdAQMEJ"
   },
   "source": [
    "# Задача 8\n",
    "Функция принимает на вход положительное число и определяет является ли оно сбалансированным, т.е. сумма цифр до средних равна сумме цифр после. Средними в случае нечетного числа цифр считать одну цифру, в случае четного - две средних. Написать тесты для кода"
   ]
  },
  {
   "cell_type": "code",
   "execution_count": 60,
   "metadata": {
    "id": "gMAAqtqlQrZt"
   },
   "outputs": [
    {
     "name": "stdout",
     "output_type": "stream",
     "text": [
      "Ошибка! Вы ввели не положительное число!\n",
      "True\n",
      "False\n"
     ]
    }
   ],
   "source": [
    "def checkUIntStr(curStr):\n",
    "    isHaveMinusSign = False\n",
    "    isHaveNumber = False\n",
    "    str = \"{}\".format(curStr)\n",
    "    newStrNum = \"\"\n",
    "    \n",
    "    for elem in str:\n",
    "        # Проверка на наличие отрицательного числа\n",
    "        if (elem == '-'):\n",
    "            newStrNum += elem\n",
    "            isHaveMinusSign = True\n",
    "        # Проверка на любой другой символ, кроме числа\n",
    "        if (elem.isdigit()):\n",
    "            isHaveNumber = True\n",
    "            newStrNum += elem\n",
    "    \n",
    "    # Конвертация числа из str в int, по флагам\n",
    "    if((isHaveNumber == True) & (isHaveMinusSign == False)):\n",
    "        result = int(newStrNum)\n",
    "    else:\n",
    "        result = False\n",
    "    \n",
    "    return result\n",
    "\n",
    "def IsBalancedNumber(number):\n",
    "    x = checkUIntStr(number)\n",
    "    result = x\n",
    "    intStr = \"\"\n",
    "    countNumbers = 0\n",
    "    \n",
    "    if (result == False):\n",
    "        result = \"Ошибка! Вы ввели не положительное число!\"\n",
    "    else:\n",
    "        # Получаем кол-во чисел, для дальнейшей операции над ними\n",
    "        while(x != 0):\n",
    "            intStr += str(x % 10)\n",
    "            x //= 10\n",
    "            countNumbers += 1\n",
    "\n",
    "        # Определяем число на чётность и перебираем числа\n",
    "        index = 0\n",
    "        leftSum = 0\n",
    "        rightSum = 0\n",
    "        \n",
    "        # Так как мы записали число с конца, то при переборе, мы в начале получаем Right часть, а не Left\n",
    "        if (countNumbers % 2 == 0):\n",
    "            # Цикл для чётных чисел\n",
    "            for i in intStr:\n",
    "                if (index < (countNumbers // 2 - 1)):\n",
    "                    rightSum += int(i)\n",
    "                if (index > (countNumbers // 2)):\n",
    "                    leftSum += int(i)\n",
    "                index+=1\n",
    "        else:\n",
    "            # Цикл для нечётных чисел\n",
    "            for i in intStr:\n",
    "                if (index < (countNumbers // 2)):\n",
    "                    rightSum += int(i)\n",
    "                if (index > (countNumbers // 2)):\n",
    "                    leftSum += int(i)\n",
    "                index+=1\n",
    "        \n",
    "        if (leftSum == rightSum):\n",
    "            result = True\n",
    "        else:\n",
    "            result = False\n",
    "\n",
    "    return result\n",
    "    pass\n",
    "    \n",
    "print(IsBalancedNumber(-8)) # Error\n",
    "print(IsBalancedNumber(222222)) # True\n",
    "print(IsBalancedNumber(11522)) # False\n",
    "\n",
    "def test_pyramid():\n",
    "    assert(pyramid(-8)) == \"Ошибка! Вы ввели не положительное число!\"\n",
    "    assert(pyramid(222222)) == True\n",
    "    assert(pyramid(11522)) == False"
   ]
  },
  {
   "cell_type": "code",
   "execution_count": null,
   "metadata": {},
   "outputs": [],
   "source": []
  }
 ],
 "metadata": {
  "colab": {
   "provenance": []
  },
  "kernelspec": {
   "display_name": "Python 3 (ipykernel)",
   "language": "python",
   "name": "python3"
  },
  "language_info": {
   "codemirror_mode": {
    "name": "ipython",
    "version": 3
   },
   "file_extension": ".py",
   "mimetype": "text/x-python",
   "name": "python",
   "nbconvert_exporter": "python",
   "pygments_lexer": "ipython3",
   "version": "3.11.4"
  }
 },
 "nbformat": 4,
 "nbformat_minor": 4
}
