{
 "cells": [
  {
   "cell_type": "markdown",
   "metadata": {
    "id": "vC84e9kzyxPy"
   },
   "source": [
    "<h1>Импорт библиотек"
   ]
  },
  {
   "cell_type": "code",
   "execution_count": 1,
   "metadata": {
    "id": "cgKeNegmQG5S"
   },
   "outputs": [],
   "source": [
    "import numpy as np\n",
    "import matplotlib.pyplot as plt\n",
    "import random\n",
    "import tkinter as tk\n",
    "import re"
   ]
  },
  {
   "cell_type": "markdown",
   "metadata": {
    "id": "qFM9uVU2x4Ls"
   },
   "source": [
    "<h1>Задача 1. Дан набор из $p$ матриц размерностью $(n, n)$ и $p$ векторов размерностью $(n, 1)$, найти сумму произведений матриц на векторы. Написать тесты для кода"
   ]
  },
  {
   "cell_type": "code",
   "execution_count": 2,
   "metadata": {
    "id": "IAbUvEiYyWFF"
   },
   "outputs": [
    {
     "name": "stdout",
     "output_type": "stream",
     "text": [
      "[12, 30, 54]\n",
      "Ошибка! Размерность массивов не совпадает с условием (len(M) == len(V))\n"
     ]
    }
   ],
   "source": [
    "def sum_prod(Matrix, Vector):\n",
    "    '''\n",
    "    X - матрицы (n, n) Matrix\n",
    "    V - векторы (n, 1) Vector\n",
    "    Гарантируется, что len(X) == len(V)\n",
    "    '''\n",
    "    newArr = []\n",
    "    #testArr = np.multiply.outer(Matrix,Vector)\n",
    "    #testArr.shape()\n",
    "\n",
    "    if (len(Matrix) == len(Vector)):\n",
    "        for i in Matrix:\n",
    "            for e in i:\n",
    "                if (len(newArr) < len(Vector)):\n",
    "                    newArr.append(e * Vector[i.index(e)])\n",
    "                else:\n",
    "                    newArr[i.index(e)] = newArr[i.index(e)] + e * Vector[i.index(e)]\n",
    "    #print(f\"testArr = {testArr}\")\n",
    "    if (newArr != []):\n",
    "        result = newArr\n",
    "    else:\n",
    "        result = \"Ошибка! Размерность массивов не совпадает с условием (len(M) == len(V))\"\n",
    "    return result\n",
    "    pass\n",
    "\n",
    "# Тесты\n",
    "#arr = np.array([[1,2,3],[4,5,6],[7,8,9]])\n",
    "#vec = np.array([1,2,3])\n",
    "arr = ([[1,2,3],[4,5,6],[7,8,9]])\n",
    "vec = ([1,2,3])\n",
    "vecError = ([1,2,3,4])\n",
    "print(sum_prod(arr,vec)) # [12, 30, 54]\n",
    "print(sum_prod(arr,vecError)) # Error\n",
    "\n",
    "def test():\n",
    "    assert(sum_prod(arr,vec)) == [12, 30, 54]\n",
    "    assert(sum_prod(arr,vecError)) == \"Ошибка! Размерность массивов не совпадает с условием (len(M) == len(V))\""
   ]
  },
  {
   "cell_type": "markdown",
   "metadata": {
    "id": "TKwPG4fIy2w4"
   },
   "source": [
    "<h1>Задача 2. Дана матрица M, напишите функцию, которая бинаризует матрицу по некоторому threshold (то есть, все значения большие threshold становятся равными 1, иначе 0). Напишите тесты для кода"
   ]
  },
  {
   "cell_type": "code",
   "execution_count": 3,
   "metadata": {
    "id": "KQDNMgsjRNH7"
   },
   "outputs": [
    {
     "name": "stdout",
     "output_type": "stream",
     "text": [
      "[[0 0 0]\n",
      " [0 0 1]\n",
      " [1 1 1]]\n"
     ]
    }
   ],
   "source": [
    "def binarize(M, threshold=0.5):\n",
    "    return np.where(M > threshold, 1, 0)\n",
    "    pass\n",
    "\n",
    "# Тесты\n",
    "arr = np.array([[0.1,0.2,0.3],[0.4,0.5,0.6],[0.7,0.8,0.9]])\n",
    "print(binarize(arr)) # [[0 0 0][0 0 1][1 1 1]]\n",
    "\n",
    "def test():\n",
    "    assert(binarize(arr)) == [[0, 0, 0],[0, 0, 1],[1, 1, 1]]"
   ]
  },
  {
   "cell_type": "markdown",
   "metadata": {
    "id": "IY5L-h-7zWhN"
   },
   "source": [
    "<h1>Задача 3. Напишите функцию, которая возвращает уникальные элементы из каждой строки матрицы. Напишите такую же функцию, но для столбцов. Напишите тесты для кода"
   ]
  },
  {
   "cell_type": "code",
   "execution_count": 4,
   "metadata": {
    "id": "-8dEZhR0SBC-"
   },
   "outputs": [
    {
     "name": "stdout",
     "output_type": "stream",
     "text": [
      "[[1 2 3]\n",
      " [4 5 6]\n",
      " [7 8 9]]\n",
      "[[1 2]\n",
      " [2 3]\n",
      " [3 4]]\n"
     ]
    }
   ],
   "source": [
    "# Тут есть вопросы...\n",
    "def unique_rows(mat):\n",
    "    # Временное хранилище матрицы, после возвращает все наработки через uniqueArr\n",
    "    result = mat\n",
    "    \n",
    "    # Временное хранилище уникальных элементов\n",
    "    uniqueArr = ([])\n",
    "    \n",
    "    for i in result:\n",
    "        uniqueArr.append(np.unique(i))\n",
    "    \n",
    "    result = np.array(uniqueArr)\n",
    "    return result\n",
    "    pass\n",
    "\n",
    "def transposeArr(arr):\n",
    "    subArr_size = len(arr[0])\n",
    "    return [[e[i] for e in arr] for i in range(subArr_size)]\n",
    "\n",
    "def unique_columns(mat):\n",
    "    # Временное хранилище и после, возвращает все наработки через uniqueArr\n",
    "    result = transposeArr(mat)\n",
    "    \n",
    "    # Временное хранилище уникальных элементов\n",
    "    uniqueArr = ([])\n",
    "    \n",
    "    for i in result:\n",
    "        uniqueArr.append(np.unique(i))\n",
    "    \n",
    "    result = np.array(uniqueArr)\n",
    "    return result\n",
    "    pass\n",
    "\n",
    "# Тесты\n",
    "matrixQueRows = np.array([[1,2,2,3,3], [4,5,6,5,4], [7,7,8,8,9]])\n",
    "matrixQueColumns = np.array([[1,2,3], [2,3,4], [1,2,3]])\n",
    "\n",
    "print(unique_rows(matrixQueRows))\n",
    "print(unique_columns(matrixQueColumns))\n",
    "\n",
    "def test():\n",
    "    assert(unique_rows(matrixQueRows)) == [[1, 2, 3], [4, 5, 6], [7, 8, 9]]\n",
    "    assert(unique_columns(matrixQueColumns)) == [[1, 2], [2, 3], [3, 4]]"
   ]
  },
  {
   "cell_type": "markdown",
   "metadata": {
    "id": "roYAlo4Jz-lH"
   },
   "source": [
    "<h1>Задача 4. Напишите функцию, которая заполняет матрицу с размерами $(m, n)$ случайными числами, распределенными по нормальному закону. Затем считает мат. ожидание и дисперсию для каждого из столбцов и строк, а также строит для каждой строки и столбца гистограмму значений (использовать функцию hist из модуля matplotlib.plot)"
   ]
  },
  {
   "cell_type": "code",
   "execution_count": 5,
   "metadata": {
    "id": "nZK_71hMSQzv"
   },
   "outputs": [
    {
     "name": "stdout",
     "output_type": "stream",
     "text": [
      "arr : [[1, 5], [8, 1]]\n",
      "mathWaiting in arr : [3.  4.5]\n",
      "variance in arr : [7.25  3.125]\n",
      "\n",
      "transposeArr : [[1, 8], [5, 1]]\n",
      "tMathWaiting in tArr : [4.5 3. ]\n",
      "tVariance in tArr : [3.125 7.25 ]\n"
     ]
    },
    {
     "data": {
      "image/png": "[encoded data removed]",
      "text/plain": [
       "<Figure size 640x480 with 2 Axes>"
      ]
     },
     "metadata": {},
     "output_type": "display_data"
    }
   ],
   "source": [
    "# Функция для поиска мат. ожидания\n",
    "def seakMathWait(arr):\n",
    "    return np.mean(arr)\n",
    "\n",
    "# Функция для поиска дисперсии\n",
    "def seakVariance(arr, mathWait, maxElements):\n",
    "    quadraticDeviation = 0\n",
    "    for i in arr:\n",
    "        quadraticDeviation += ((i - mathWait) ** 2)\n",
    "    variance = quadraticDeviation / maxElements\n",
    "    return variance\n",
    "\n",
    "# Уже есть в задаче выше... (Но оставил как отдельное дополнение, если этот блок сделать отдельным)\n",
    "# Функция для прохождения, по столбцам матрицы\n",
    "#def transposeArr(arr):\n",
    "#    subArr_size = len(arr[0])\n",
    "#    return [[e[i] for e in arr] for i in range(subArr_size)]\n",
    "\n",
    "# Расчёт мат. ожидания\n",
    "def mathWaitArr(arr):\n",
    "    # Создаём пустой array, для сохранения мат. ожидания\n",
    "    mathWaitArray = ([])\n",
    "    \n",
    "    # Считает мат. ожидание (среднее значение), для каждой строки\n",
    "    for i in arr:\n",
    "        mathWaitArray.append(seakMathWait(i))\n",
    "    return np.array(mathWaitArray)\n",
    "\n",
    "# Функция для рисования гистограмм\n",
    "def histMathWaitVariance(arr, arrMathWait, arrVariance, IsTransposeArr):\n",
    "    if (IsTransposeArr == True):\n",
    "        nameHist = [\"tMathWaiting in tArr\",\"tVariance in tArr\"]\n",
    "    else:\n",
    "        nameHist = [\"MathWaiting in arr\",\"Variance in arr\"]\n",
    "    \n",
    "    fig, axs = plt.subplots(ncols=2)\n",
    "        \n",
    "    axs[0].hist(arrMathWait, bins = len(arrMathWait)+5)\n",
    "    \n",
    "    # Title and labels\n",
    "    axs[0].set_title(f\"{nameHist[0]}\", size = 10)\n",
    "    \n",
    "    axs[1].hist(arrVariance, bins = len(arrVariance)+5)\n",
    "    \n",
    "    # Title and labels\n",
    "    axs[1].set_title(f\"{nameHist[1]}\", size = 10)\n",
    "    \n",
    "# Основная функция\n",
    "def mathWaitVarianceArrHist(m, n):\n",
    "    # Определяем матрицу и заполняем случайными числами от 1 до 10\n",
    "    arr = [[random.randint(1,10) for e in range(n)] for i in range(m)]\n",
    "    print(f\"arr : {arr}\")\n",
    "    \n",
    "    mathWaiting = mathWaitArr(arr)\n",
    "    print(f\"mathWaiting in arr : {mathWaiting}\")\n",
    "    \n",
    "    # Поиск дисперсии матрицы\n",
    "    variance = seakVariance(arr, mathWaiting, n*m)\n",
    "    print(f\"variance in arr : {variance}\")\n",
    "    \n",
    "    print()\n",
    "    # Обратная матрица\n",
    "    tArr = transposeArr(arr)\n",
    "    print(f\"transposeArr : {tArr}\")\n",
    "    \n",
    "    # Мат. ожидание по столбцам\n",
    "    tMathWaiting = mathWaitArr(tArr)\n",
    "    print(f\"tMathWaiting in tArr : {tMathWaiting}\")\n",
    "    \n",
    "    # Дисперсия по столбцам\n",
    "    tVariance = seakVariance(tArr, tMathWaiting, n*m)\n",
    "    print(f\"tVariance in tArr : {tVariance}\")\n",
    "\n",
    "    # arr hist\n",
    "    histMathWaitVariance(arr, mathWaiting, variance, False)\n",
    "    \n",
    "    pass\n",
    "\n",
    "mathWaitVarianceArrHist(2,2)"
   ]
  },
  {
   "cell_type": "markdown",
   "metadata": {
    "id": "BDyATNdM0dJ2"
   },
   "source": [
    "<h1>Задача 5. Напишите функцию, которая заполняет матрицу $(m, n)$ в шахматном порядке заданными числами $a$ и $b$. Напишите тесты для кода"
   ]
  },
  {
   "cell_type": "code",
   "execution_count": 6,
   "metadata": {
    "id": "RWNJYWQGecS6"
   },
   "outputs": [
    {
     "name": "stdout",
     "output_type": "stream",
     "text": [
      "- - - - - \n",
      "| 0 1 0 |\n",
      "| 1 0 1 |\n",
      "| 0 1 0 |\n",
      "- - - - - \n",
      "\n",
      "- - - - - \n",
      "| 0 1 0 |\n",
      "- - - - - \n",
      "\n",
      "- - - - - \n",
      "| 0 1 0 |\n",
      "| 1 0 1 |\n",
      "- - - - - \n"
     ]
    }
   ],
   "source": [
    "def chess(m, n, a, b):\n",
    "    # Доп. параметры для выполнения задания\n",
    "    IsLastA = False\n",
    "    arr = [[0 for j in range(n)] for i in range(m)]\n",
    "    \n",
    "    # Немного красоты в вывод\n",
    "    for i in range(n + 2):\n",
    "        print(f\"-\", end = \" \")\n",
    "    print()\n",
    "    \n",
    "    # Основной цикл\n",
    "    for i in range(m):\n",
    "        print(\"|\", end = \" \")\n",
    "        for j in range(n):\n",
    "            if (IsLastA == False):\n",
    "                arr[i][j] = a\n",
    "                print(f\"{a}\", end = \" \")\n",
    "                IsLastA = True\n",
    "            else:\n",
    "                arr[i][j] = b\n",
    "                print(f\"{b}\", end = \" \")\n",
    "                IsLastA = False\n",
    "        print(end = \"|\\n\")\n",
    "    \n",
    "    # Немного красоты в вывод\n",
    "    for i in range(n + 2):\n",
    "        print(f\"-\", end = \" \")\n",
    "    print()\n",
    "    #return arr\n",
    "    pass\n",
    "\n",
    "# Тесты\n",
    "chess(3,3,0,1)\n",
    "print()\n",
    "chess(1,3,0,1)\n",
    "print()\n",
    "chess(2,3,0,1)\n",
    "\n",
    "def test():\n",
    "    assert(chess(3,3,0,1)) == [[0, 1, 0], [1, 0, 1], [0, 1, 0]]\n",
    "    assert(chess(1,3,0,1)) == [[0, 1, 0]]\n",
    "    assert(chess(2,3,0,1)) == [[0, 1, 0], [1, 0, 1]]"
   ]
  },
  {
   "cell_type": "markdown",
   "metadata": {
    "id": "-ymXLtTN0vB6"
   },
   "source": [
    "<h1>Задача 6. Напишите функцию, которая отрисовывает прямоугольник с заданными размерами (a, b) на изображении размера (m, n), цвет фона задайте в схеме RGB, как и цвет прямоугольника. Цвета также должны быть параметрами функции. Напишите аналогичную функцию но для овала с полуосями a и b. Напишите тесты для кода.\n",
    "Примечание: уравнение эллипса (границы овала) можно записать как:\n",
    "<h1>$\\frac{(x-x_0)^2}{a^2}+\\frac{(y-y_0)^2}{b^2}=1$"
   ]
  },
  {
   "cell_type": "code",
   "execution_count": 7,
   "metadata": {
    "id": "sNfl1t_kfOF4"
   },
   "outputs": [],
   "source": [
    "def checkDoubleRGB(RGB1, RGB2):\n",
    "    result = False\n",
    "    # Проверка введённых данных на схему RGB\n",
    "    match1 = re.search(r'^#(?:[0-9a-fA-F]{3}){1,2}$', RGB1)\n",
    "    match2 = re.search(r'^#(?:[0-9a-fA-F]{3}){1,2}$', RGB2)\n",
    "    \n",
    "    if match1 and match2:\n",
    "        result = True\n",
    "    else:\n",
    "        result = False\n",
    "    return result\n",
    "\n",
    "def draw_rectangle(widthRect, heightRect, widthCanvas, heightCanvas, rectangle_color, background_color):\n",
    "    # Проверка на схему RGB\n",
    "    result = checkDoubleRGB(rectangle_color, background_color)\n",
    "    \n",
    "    if result == True:\n",
    "        # Создаём полотно (Окно)\n",
    "        root = tk.Tk()\n",
    "        root.title(\"Rectangle\")\n",
    "        root.geometry(f\"{widthCanvas}x{heightCanvas}\")\n",
    "\n",
    "        # Создаём прямоугольник (Полотно для отрисовки фигур)\n",
    "        canvas = tk.Canvas(\n",
    "            root,\n",
    "            width = widthCanvas, height = heightCanvas,\n",
    "            bg = f\"{background_color}\")\n",
    "        # Делаем ориентацию в центре\n",
    "        canvas.pack(anchor = tk.CENTER, expand = True)\n",
    "\n",
    "        # Тут мы отрисовываем фигуру\n",
    "        # Если мы хотим увидеть прямоугольник в центре,\n",
    "        # то нам нужно сделать пару мат. операций\n",
    "        beginW = (widthCanvas - widthRect )/2\n",
    "        beginH = (heightCanvas - heightRect )/2\n",
    "        endW = (widthRect + widthCanvas)/2\n",
    "        endH = (heightRect + heightCanvas)/2\n",
    "        canvas.create_rectangle((beginW,beginH),(endW,endH), fill=f\"{rectangle_color}\")\n",
    "\n",
    "        # Вывод\n",
    "        root.mainloop()\n",
    "    else:\n",
    "        result = \"Ошибка! Вы ввели не RGB схему, в rectangle_color или background_color!\"\n",
    "    return result\n",
    "    pass\n",
    "\n",
    "def draw_ellipse(widthOval, heightOval, widthCanvas, heightCanvas, ellipse_color, background_color):\n",
    "    # Проверка на схему RGB\n",
    "    result = checkDoubleRGB(ellipse_color, background_color)\n",
    "    \n",
    "    if result == True:\n",
    "        # Создаём полотно (Окно)\n",
    "        root = tk.Tk()\n",
    "        root.title(\"Ellipse\")\n",
    "        root.geometry(f\"{widthCanvas}x{heightCanvas}\")\n",
    "\n",
    "        # Создаём элипс (Полотно для отрисовки фигур)\n",
    "        canvas = tk.Canvas(\n",
    "            root,\n",
    "            width = widthCanvas, height = heightCanvas,\n",
    "            bg = f\"{background_color}\")\n",
    "        # Делаем ориентацию в центре\n",
    "        canvas.pack(anchor = tk.CENTER, expand = True)\n",
    "\n",
    "        # Тут мы отрисовываем фигуру\n",
    "        # Если мы хотим увидеть прямоугольник в центре,\n",
    "        # то нам нужно сделать пару мат. операций\n",
    "        beginW = (widthCanvas - widthOval )/2\n",
    "        beginH = (heightCanvas - heightOval )/2\n",
    "        endW = (widthOval + widthCanvas)/2\n",
    "        endH = (heightOval + heightCanvas)/2\n",
    "        canvas.create_oval((beginW,beginH),(endW,endH), fill=f\"{ellipse_color}\")\n",
    "\n",
    "        # Вывод\n",
    "        root.mainloop()\n",
    "    else:\n",
    "        result = \"Ошибка! Вы ввели не RGB схему, в rectangle_color или background_color!\"\n",
    "    return result\n",
    "    pass\n",
    "\n",
    "def draw_arc(widthArc, heightArc, widthCanvas, heightCanvas, arc_color, background_color):\n",
    "    # Проверка на схему RGB\n",
    "    result = checkDoubleRGB(arc_color, background_color)\n",
    "    \n",
    "    if result == True:\n",
    "        # Создаём полотно (Окно)\n",
    "        root = tk.Tk()\n",
    "        root.title(\"Ark\")\n",
    "        root.geometry(f\"{widthCanvas}x{heightCanvas}\")\n",
    "\n",
    "        # Создаём элипс (Полотно для отрисовки фигур)\n",
    "        canvas = tk.Canvas(\n",
    "            root,\n",
    "            width = widthCanvas, height = heightCanvas,\n",
    "            bg = f\"{background_color}\")\n",
    "        # Делаем ориентацию в центре\n",
    "        canvas.pack(anchor = tk.CENTER, expand = True)\n",
    "\n",
    "        # Тут мы отрисовываем фигуру\n",
    "        # Если мы хотим увидеть прямоугольник в центре,\n",
    "        # то нам нужно сделать пару мат. операций\n",
    "        beginW = (widthCanvas - widthArc )/2\n",
    "        beginH = (heightCanvas - heightArc )/2\n",
    "        endW = (widthArc + widthCanvas)/2\n",
    "        endH = (heightArc + heightCanvas)/2\n",
    "        canvas.create_arc((beginW,beginH),(endW,endH), fill=f\"{arc_color}\")\n",
    "\n",
    "        # Вывод\n",
    "        root.mainloop()\n",
    "    else:\n",
    "        result = \"Ошибка! Вы ввели не RGB схему, в rectangle_color или background_color!\"\n",
    "    return result\n",
    "    pass\n",
    "\n",
    "# Тесты\n",
    "draw_rectangle(100, 100, 200, 200, \"#ffffff\", \"#000000\")\n",
    "draw_ellipse(100, 150, 200, 250, \"#000000\", \"#ffffff\")\n",
    "draw_arc(100, 100, 200, 200, \"#ffffff\", \"#000000\")\n",
    "\n",
    "def test():\n",
    "    assert(draw_rectangle(100, 100, 200, 200, \"#ffffff\", \"#000000\")) == True\n",
    "    assert(draw_ellipse(100, 150, 200, 250, \"#000000\", \"#ffffff\")) == True\n",
    "    assert(draw_arc(100, 100, 200, 200, \"#ffffff\", \"#000000\")) == True"
   ]
  },
  {
   "cell_type": "markdown",
   "metadata": {
    "id": "S82c38oz244H"
   },
   "source": [
    "<h1>Задача 7. Дан некий временной ряд. Для данного ряда нужно найти его: математическое ожидание, дисперсию, СКО, найти все локальные максимумы и минимумы (локальный максимум - это точка, которая больше своих соседних точек, а локальный минимум - это точка, которая меньше своих соседей), а также вычислить для данного ряда другой ряд, получаемый методом скользящего среднего с размером окна $p$.\n",
    "<h1>Примечание: метод скользящего среднего подразумевает нахождение среднего из подмножетсва ряда размером $p$"
   ]
  },
  {
   "cell_type": "code",
   "execution_count": 9,
   "metadata": {
    "id": "Zb9mIVge5MMt"
   },
   "outputs": [
    {
     "name": "stdout",
     "output_type": "stream",
     "text": [
      "arr : [-5, -1, 10, 3, -9]\n",
      "mathWaiting in arr : -0.4\n",
      "variance in arr : 43.04\n",
      "meanSquareDeviation in arr : 6.56048778674269\n",
      "maxPointArr (index) in arr : [2]\n",
      "minPointArr (index) in arr : [0, 4]\n",
      "movingAverage in arr by 3 :  [1.3] [4.0] [1.3] \n"
     ]
    }
   ],
   "source": [
    "# Функция для поиска мат. ожидания\n",
    "def seakMathWait(arr):\n",
    "    return np.mean(arr)\n",
    "\n",
    "# Функция для поиска дисперсии\n",
    "def seakVariance(arr, mathWait, maxElements):\n",
    "    quadraticDeviation = 0\n",
    "    for i in arr:\n",
    "        quadraticDeviation += ((i - mathWait) ** 2)\n",
    "    variance = quadraticDeviation / maxElements\n",
    "    return variance\n",
    "\n",
    "# Поиск СКО - среднее квадратичное отклонение\n",
    "def seakMeanSquareDeviation(_variance):\n",
    "    return np.sqrt(_variance)\n",
    "\n",
    "# Поиск локальных точек максимума\n",
    "def seakLocalMaxima(arr):\n",
    "    # Создание массива\n",
    "    maxPoints = []\n",
    "    \n",
    "    # Проверка 1-ого элемента\n",
    "    if (arr[0] > arr[1]):\n",
    "        maxPoints.append(0)\n",
    "    \n",
    "    # Проверка целого массива, кроме последнего значения\n",
    "    for i in range(1,len(arr)-1):\n",
    "        if (arr[i-1] < arr[i] > arr[i + 1]):\n",
    "            maxPoints.append(i)\n",
    "    \n",
    "    if (arr[-1] > arr[-2]):\n",
    "        maxPoints.append(len(arr)-1)\n",
    "    \n",
    "    return maxPoints\n",
    "\n",
    "# Поиск локальных точек минимума\n",
    "def seakLocalMinima(arr):\n",
    "    # Создание массива\n",
    "    minPoints = []\n",
    "    \n",
    "    # Проверка 1-ого элемента\n",
    "    if (arr[0] < arr[1]):\n",
    "        minPoints.append(0)\n",
    "    \n",
    "    # Проверка целого массива, кроме последнего значения\n",
    "    for i in range(1,len(arr)-1):\n",
    "        if (arr[i-1] > arr[i] < arr[i + 1]):\n",
    "            minPoints.append(i)\n",
    "    \n",
    "    if (arr[-1] < arr[-2]):\n",
    "        minPoints.append(len(arr)-1)\n",
    "    \n",
    "    return minPoints\n",
    "\n",
    "def seakMovingAverage(arr, average):\n",
    "    moving_average = []\n",
    "    i = 0\n",
    "    \n",
    "    # Основной цикл для вычисления и заполнения array\n",
    "    while i < len(arr) - average + 1:\n",
    "        # Получаем часть arr, по average и перебираем её через while\n",
    "        currentWindow = arr[i : i + average]\n",
    "        \n",
    "        # Основное вычисление скользящего среднего числа по average in arr\n",
    "        currentWindowAverage = round(sum(currentWindow) / average, 1)\n",
    "        \n",
    "        # Добавление данного вычисления, в новый список средних, скользящих чисел\n",
    "        moving_average.append(currentWindowAverage)\n",
    "        \n",
    "        i += 1\n",
    "        \n",
    "    return moving_average\n",
    "\n",
    "# Основная функция\n",
    "def mathArr(lenArr, average):\n",
    "    # Определяем матрицу и заполняем случайными числами от 1 до 10\n",
    "    arr = [random.randint(-10,10) for e in range(lenArr)]\n",
    "    print(f\"arr : {arr}\")\n",
    "    \n",
    "    # Мат. ожидание\n",
    "    mathWaiting = seakMathWait(arr)\n",
    "    print(f\"mathWaiting in arr : {mathWaiting}\")\n",
    "\n",
    "    # Поиск дисперсии матрицы\n",
    "    variance = seakVariance(arr, mathWaiting, len(arr))\n",
    "    print(f\"variance in arr : {variance}\")\n",
    "\n",
    "    # Поиск СКО по дисперсии\n",
    "    meanSquareDeviation = seakMeanSquareDeviation(variance)\n",
    "    print(f\"meanSquareDeviation in arr : {meanSquareDeviation}\")\n",
    "    \n",
    "    # Поиск point max and min\n",
    "    maxPointArr = seakLocalMaxima(arr)\n",
    "    print(f\"maxPointArr (index) in arr : {maxPointArr}\")\n",
    "    minPointArr = seakLocalMinima(arr)\n",
    "    print(f\"minPointArr (index) in arr : {minPointArr}\")\n",
    "    \n",
    "    # Поиск скользящего среднего по числу average\n",
    "    movingAverage = seakMovingAverage(arr, average)\n",
    "    print(f\"movingAverage in arr by {average} : \", end = \" \")\n",
    "    for i in movingAverage:\n",
    "        print(f\"[{i}]\", end = \" \")\n",
    "    print()\n",
    "    \n",
    "    pass\n",
    "\n",
    "mathArr(5,3)"
   ]
  },
  {
   "cell_type": "markdown",
   "metadata": {
    "id": "jPkylmOX5O9n"
   },
   "source": [
    "<h1> Задача 8. Дан некоторый вектор с целочисленными метками классов, напишите функцию, которая выполняет one-hot-encoding для данного вектора\n",
    "<h1> One-hot-encoding - представление, в котором на месте метки некоторого класса стоит 1, в остальных позициях стоит 0. Например для вектора [0, 2, 3, 0] one-hot-encoding выглядит как: [[1, 0, 0, 0], [0, 0, 1, 0], [0, 0, 0, 1], [1, 0, 0, 0]]"
   ]
  },
  {
   "cell_type": "code",
   "execution_count": 26,
   "metadata": {
    "id": "Y-jlnZvw56lD"
   },
   "outputs": [
    {
     "name": "stdout",
     "output_type": "stream",
     "text": [
      "arr : [0, 2, 1, 7, 1]\n",
      "dictionaryCountInt : [0, 1, 2, 3, 4, 5, 6, 7, 8, 9, 10]\n",
      "oneHotEncoded :\n",
      "[1, 0, 0, 0, 0, 0, 0, 0, 0, 0, 0]\n",
      "[0, 0, 1, 0, 0, 0, 0, 0, 0, 0, 0]\n",
      "[0, 1, 0, 0, 0, 0, 0, 0, 0, 0, 0]\n",
      "[0, 0, 0, 0, 0, 0, 0, 1, 0, 0, 0]\n",
      "[0, 1, 0, 0, 0, 0, 0, 0, 0, 0, 0]\n"
     ]
    }
   ],
   "source": [
    "def oneHotEncodingRndArr(lenArr, maxRndInt):\n",
    "    # Заполняем вектор рандомными числами\n",
    "    arr = [random.randint(0, maxRndInt) for _ in range(lenArr)]\n",
    "    \n",
    "    # Список используемых чисел, для нашего метода, он же отвечает за размер строки в массиве\n",
    "    # maxRndInt + 1, так как maxRndInt включительно рандомится\n",
    "    dictionaryCountInt = [i for i in range(maxRndInt + 1)]\n",
    "    \n",
    "    # Проверка\n",
    "    print(f\"arr : {arr}\")\n",
    "    print(f\"dictionaryCountInt : {dictionaryCountInt}\")\n",
    "    \n",
    "    # Наш бутущий результат работы, в соновном цикле\n",
    "    oneHotEncoded = list()\n",
    "    \n",
    "    for value in arr:\n",
    "        elem = [0 for _ in range(len(dictionaryCountInt))]\n",
    "        elem[value] = 1\n",
    "        oneHotEncoded.append(elem)\n",
    "    \n",
    "    # Вывод\n",
    "    print(\"oneHotEncoded :\")\n",
    "    for i in oneHotEncoded:\n",
    "        print(i)\n",
    "#\n",
    "oneHotEncodingRndArr(5,10)"
   ]
  },
  {
   "cell_type": "code",
   "execution_count": null,
   "metadata": {},
   "outputs": [],
   "source": []
  }
 ],
 "metadata": {
  "colab": {
   "provenance": []
  },
  "kernelspec": {
   "display_name": "Python 3 (ipykernel)",
   "language": "python",
   "name": "python3"
  },
  "language_info": {
   "codemirror_mode": {
    "name": "ipython",
    "version": 3
   },
   "file_extension": ".py",
   "mimetype": "text/x-python",
   "name": "python",
   "nbconvert_exporter": "python",
   "pygments_lexer": "ipython3",
   "version": "3.11.4"
  }
 },
 "nbformat": 4,
 "nbformat_minor": 1
}
